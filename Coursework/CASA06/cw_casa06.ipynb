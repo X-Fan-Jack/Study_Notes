{
 "cells": [
  {
   "attachments": {},
   "cell_type": "markdown",
   "metadata": {},
   "source": [
    "***\n",
    "#### About this document\n",
    "_This is the assignment for the UCL CASA module Data Science for Spatial Systems (CASA0006) <br>This is a self contained Jupyter notebook with structure introduction, discussion and embeded code and bibliography._\n",
    "<br>\n",
    "**Code is hosted [here](https://github.com/antoniosfiala/UCL_DSSS_Final_Project)**<br>\n",
    "**Data is availble [here](https://liveuclac-my.sharepoint.com/:f:/g/personal/ucfnafi_ucl_ac_uk/EpV8UnlEQQdNpu28TZHgRYoBLl-LM4iuuDGyREiLCGTEmw?e=XV5Mrz)**\n",
    "***"
   ]
  }
 ],
 "metadata": {
  "language_info": {
   "name": "python"
  },
  "orig_nbformat": 4
 },
 "nbformat": 4,
 "nbformat_minor": 2
}
